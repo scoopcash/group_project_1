{
 "cells": [
  {
   "cell_type": "code",
   "execution_count": 55,
   "metadata": {},
   "outputs": [],
   "source": [
    "# Initial imports\n",
    "import os\n",
    "import requests\n",
    "import pandas as pd\n",
    "import numpy as np\n",
    "from pathlib import Path\n",
    "from dotenv import load_dotenv\n",
    "import alpaca_trade_api as tradeapi\n",
    "import streamlit as st\n",
    "import hvplot.pandas\n",
    "import plotly.express as px\n",
    "%matplotlib inline"
   ]
  },
  {
   "cell_type": "code",
   "execution_count": 56,
   "metadata": {},
   "outputs": [
    {
     "data": {
      "text/plain": [
       "True"
      ]
     },
     "execution_count": 56,
     "metadata": {},
     "output_type": "execute_result"
    }
   ],
   "source": [
    "# Load .env enviroment variables\n",
    "load_dotenv()"
   ]
  },
  {
   "cell_type": "code",
   "execution_count": 57,
   "metadata": {},
   "outputs": [],
   "source": [
    "csv_name = input(\"enter csv name to load portfolio data\")\n",
    "filepath = Path(csv_name+'.csv')  "
   ]
  },
  {
   "cell_type": "code",
   "execution_count": 58,
   "metadata": {},
   "outputs": [
    {
     "data": {
      "text/html": [
       "<div>\n",
       "<style scoped>\n",
       "    .dataframe tbody tr th:only-of-type {\n",
       "        vertical-align: middle;\n",
       "    }\n",
       "\n",
       "    .dataframe tbody tr th {\n",
       "        vertical-align: top;\n",
       "    }\n",
       "\n",
       "    .dataframe thead th {\n",
       "        text-align: right;\n",
       "    }\n",
       "</style>\n",
       "<table border=\"1\" class=\"dataframe\">\n",
       "  <thead>\n",
       "    <tr style=\"text-align: right;\">\n",
       "      <th></th>\n",
       "      <th>symbol</th>\n",
       "      <th>no_of_shares</th>\n",
       "      <th>share_price</th>\n",
       "    </tr>\n",
       "    <tr>\n",
       "      <th>order_date</th>\n",
       "      <th></th>\n",
       "      <th></th>\n",
       "      <th></th>\n",
       "    </tr>\n",
       "  </thead>\n",
       "  <tbody>\n",
       "    <tr>\n",
       "      <th>2022-03-15</th>\n",
       "      <td>AAPL</td>\n",
       "      <td>320</td>\n",
       "      <td>155.09</td>\n",
       "    </tr>\n",
       "    <tr>\n",
       "      <th>2022-01-24</th>\n",
       "      <td>MSFT</td>\n",
       "      <td>170</td>\n",
       "      <td>296.37</td>\n",
       "    </tr>\n",
       "    <tr>\n",
       "      <th>2022-03-14</th>\n",
       "      <td>TSLA</td>\n",
       "      <td>200</td>\n",
       "      <td>255.46</td>\n",
       "    </tr>\n",
       "    <tr>\n",
       "      <th>2020-03-16</th>\n",
       "      <td>TSLA</td>\n",
       "      <td>73</td>\n",
       "      <td>29.67</td>\n",
       "    </tr>\n",
       "    <tr>\n",
       "      <th>2020-03-16</th>\n",
       "      <td>AAPL</td>\n",
       "      <td>83</td>\n",
       "      <td>60.50</td>\n",
       "    </tr>\n",
       "    <tr>\n",
       "      <th>2020-03-16</th>\n",
       "      <td>MSFT</td>\n",
       "      <td>37</td>\n",
       "      <td>135.42</td>\n",
       "    </tr>\n",
       "    <tr>\n",
       "      <th>2020-03-16</th>\n",
       "      <td>AMZN</td>\n",
       "      <td>59</td>\n",
       "      <td>84.46</td>\n",
       "    </tr>\n",
       "  </tbody>\n",
       "</table>\n",
       "</div>"
      ],
      "text/plain": [
       "           symbol  no_of_shares  share_price\n",
       "order_date                                  \n",
       "2022-03-15   AAPL           320       155.09\n",
       "2022-01-24   MSFT           170       296.37\n",
       "2022-03-14   TSLA           200       255.46\n",
       "2020-03-16   TSLA            73        29.67\n",
       "2020-03-16   AAPL            83        60.50\n",
       "2020-03-16   MSFT            37       135.42\n",
       "2020-03-16   AMZN            59        84.46"
      ]
     },
     "metadata": {},
     "output_type": "display_data"
    }
   ],
   "source": [
    "# read in portfolio.csv format date,ticker,shares,share_price, clean data, set date as index,\n",
    "portfolio_df = pd.read_csv(Path(csv_name+'.csv'), index_col=0, parse_dates=True, infer_datetime_format=True)\n",
    "display(portfolio_df)"
   ]
  },
  {
   "cell_type": "code",
   "execution_count": 78,
   "metadata": {},
   "outputs": [
    {
     "data": {
      "text/html": [
       "<div>\n",
       "<style scoped>\n",
       "    .dataframe tbody tr th:only-of-type {\n",
       "        vertical-align: middle;\n",
       "    }\n",
       "\n",
       "    .dataframe tbody tr th {\n",
       "        vertical-align: top;\n",
       "    }\n",
       "\n",
       "    .dataframe thead th {\n",
       "        text-align: right;\n",
       "    }\n",
       "</style>\n",
       "<table border=\"1\" class=\"dataframe\">\n",
       "  <thead>\n",
       "    <tr style=\"text-align: right;\">\n",
       "      <th></th>\n",
       "      <th>order_date</th>\n",
       "      <th>symbol</th>\n",
       "      <th>no_of_shares</th>\n",
       "      <th>share_price</th>\n",
       "      <th>order_total</th>\n",
       "    </tr>\n",
       "  </thead>\n",
       "  <tbody>\n",
       "    <tr>\n",
       "      <th>0</th>\n",
       "      <td>2022-03-15</td>\n",
       "      <td>AAPL</td>\n",
       "      <td>320</td>\n",
       "      <td>155.09</td>\n",
       "      <td>49628.80</td>\n",
       "    </tr>\n",
       "    <tr>\n",
       "      <th>1</th>\n",
       "      <td>2022-01-24</td>\n",
       "      <td>MSFT</td>\n",
       "      <td>170</td>\n",
       "      <td>296.37</td>\n",
       "      <td>50382.90</td>\n",
       "    </tr>\n",
       "    <tr>\n",
       "      <th>2</th>\n",
       "      <td>2022-03-14</td>\n",
       "      <td>TSLA</td>\n",
       "      <td>200</td>\n",
       "      <td>255.46</td>\n",
       "      <td>51092.00</td>\n",
       "    </tr>\n",
       "    <tr>\n",
       "      <th>3</th>\n",
       "      <td>2020-03-16</td>\n",
       "      <td>TSLA</td>\n",
       "      <td>73</td>\n",
       "      <td>29.67</td>\n",
       "      <td>2165.91</td>\n",
       "    </tr>\n",
       "    <tr>\n",
       "      <th>4</th>\n",
       "      <td>2020-03-16</td>\n",
       "      <td>AAPL</td>\n",
       "      <td>83</td>\n",
       "      <td>60.50</td>\n",
       "      <td>5021.50</td>\n",
       "    </tr>\n",
       "    <tr>\n",
       "      <th>5</th>\n",
       "      <td>2020-03-16</td>\n",
       "      <td>MSFT</td>\n",
       "      <td>37</td>\n",
       "      <td>135.42</td>\n",
       "      <td>5010.54</td>\n",
       "    </tr>\n",
       "    <tr>\n",
       "      <th>6</th>\n",
       "      <td>2020-03-16</td>\n",
       "      <td>AMZN</td>\n",
       "      <td>59</td>\n",
       "      <td>84.46</td>\n",
       "      <td>4983.14</td>\n",
       "    </tr>\n",
       "  </tbody>\n",
       "</table>\n",
       "</div>"
      ],
      "text/plain": [
       "  order_date symbol  no_of_shares  share_price  order_total\n",
       "0 2022-03-15   AAPL           320       155.09     49628.80\n",
       "1 2022-01-24   MSFT           170       296.37     50382.90\n",
       "2 2022-03-14   TSLA           200       255.46     51092.00\n",
       "3 2020-03-16   TSLA            73        29.67      2165.91\n",
       "4 2020-03-16   AAPL            83        60.50      5021.50\n",
       "5 2020-03-16   MSFT            37       135.42      5010.54\n",
       "6 2020-03-16   AMZN            59        84.46      4983.14"
      ]
     },
     "metadata": {},
     "output_type": "display_data"
    },
    {
     "data": {
      "application/vnd.plotly.v1+json": {
       "config": {
        "plotlyServerURL": "https://plot.ly"
       },
       "data": [
        {
         "domain": {
          "x": [
           0,
           1
          ],
          "y": [
           0,
           1
          ]
         },
         "hovertemplate": "symbol=%{label}<br>no_of_shares=%{value}<extra></extra>",
         "labels": [
          "AAPL",
          "MSFT",
          "TSLA",
          "TSLA",
          "AAPL",
          "MSFT",
          "AMZN"
         ],
         "legendgroup": "",
         "name": "",
         "showlegend": true,
         "type": "pie",
         "values": [
          320,
          170,
          200,
          73,
          83,
          37,
          59
         ]
        }
       ],
       "layout": {
        "legend": {
         "tracegroupgap": 0
        },
        "piecolorway": [
         "rgb(103,0,31)",
         "rgb(178,24,43)",
         "rgb(214,96,77)",
         "rgb(244,165,130)",
         "rgb(253,219,199)",
         "rgb(247,247,247)",
         "rgb(209,229,240)",
         "rgb(146,197,222)",
         "rgb(67,147,195)",
         "rgb(33,102,172)",
         "rgb(5,48,97)"
        ],
        "template": {
         "data": {
          "candlestick": [
           {
            "decreasing": {
             "line": {
              "color": "#000033"
             }
            },
            "increasing": {
             "line": {
              "color": "#000032"
             }
            },
            "type": "candlestick"
           }
          ],
          "contour": [
           {
            "colorscale": [
             [
              0,
              "#000011"
             ],
             [
              0.1111111111111111,
              "#000012"
             ],
             [
              0.2222222222222222,
              "#000013"
             ],
             [
              0.3333333333333333,
              "#000014"
             ],
             [
              0.4444444444444444,
              "#000015"
             ],
             [
              0.5555555555555556,
              "#000016"
             ],
             [
              0.6666666666666666,
              "#000017"
             ],
             [
              0.7777777777777778,
              "#000018"
             ],
             [
              0.8888888888888888,
              "#000019"
             ],
             [
              1,
              "#000020"
             ]
            ],
            "type": "contour"
           }
          ],
          "contourcarpet": [
           {
            "colorscale": [
             [
              0,
              "#000011"
             ],
             [
              0.1111111111111111,
              "#000012"
             ],
             [
              0.2222222222222222,
              "#000013"
             ],
             [
              0.3333333333333333,
              "#000014"
             ],
             [
              0.4444444444444444,
              "#000015"
             ],
             [
              0.5555555555555556,
              "#000016"
             ],
             [
              0.6666666666666666,
              "#000017"
             ],
             [
              0.7777777777777778,
              "#000018"
             ],
             [
              0.8888888888888888,
              "#000019"
             ],
             [
              1,
              "#000020"
             ]
            ],
            "type": "contourcarpet"
           }
          ],
          "heatmap": [
           {
            "colorscale": [
             [
              0,
              "#000011"
             ],
             [
              0.1111111111111111,
              "#000012"
             ],
             [
              0.2222222222222222,
              "#000013"
             ],
             [
              0.3333333333333333,
              "#000014"
             ],
             [
              0.4444444444444444,
              "#000015"
             ],
             [
              0.5555555555555556,
              "#000016"
             ],
             [
              0.6666666666666666,
              "#000017"
             ],
             [
              0.7777777777777778,
              "#000018"
             ],
             [
              0.8888888888888888,
              "#000019"
             ],
             [
              1,
              "#000020"
             ]
            ],
            "type": "heatmap"
           }
          ],
          "histogram2d": [
           {
            "colorscale": [
             [
              0,
              "#000011"
             ],
             [
              0.1111111111111111,
              "#000012"
             ],
             [
              0.2222222222222222,
              "#000013"
             ],
             [
              0.3333333333333333,
              "#000014"
             ],
             [
              0.4444444444444444,
              "#000015"
             ],
             [
              0.5555555555555556,
              "#000016"
             ],
             [
              0.6666666666666666,
              "#000017"
             ],
             [
              0.7777777777777778,
              "#000018"
             ],
             [
              0.8888888888888888,
              "#000019"
             ],
             [
              1,
              "#000020"
             ]
            ],
            "type": "histogram2d"
           }
          ],
          "icicle": [
           {
            "textfont": {
             "color": "white"
            },
            "type": "icicle"
           }
          ],
          "sankey": [
           {
            "textfont": {
             "color": "#000036"
            },
            "type": "sankey"
           }
          ],
          "scatter": [
           {
            "marker": {
             "line": {
              "width": 0
             }
            },
            "type": "scatter"
           }
          ],
          "table": [
           {
            "cells": {
             "fill": {
              "color": "#000038"
             },
             "font": {
              "color": "#000037"
             },
             "line": {
              "color": "#000039"
             }
            },
            "header": {
             "fill": {
              "color": "#000040"
             },
             "font": {
              "color": "#000036"
             },
             "line": {
              "color": "#000039"
             }
            },
            "type": "table"
           }
          ],
          "waterfall": [
           {
            "connector": {
             "line": {
              "color": "#000036",
              "width": 2
             }
            },
            "decreasing": {
             "marker": {
              "color": "#000033"
             }
            },
            "increasing": {
             "marker": {
              "color": "#000032"
             }
            },
            "totals": {
             "marker": {
              "color": "#000034"
             }
            },
            "type": "waterfall"
           }
          ]
         },
         "layout": {
          "coloraxis": {
           "colorscale": [
            [
             0,
             "#000011"
            ],
            [
             0.1111111111111111,
             "#000012"
            ],
            [
             0.2222222222222222,
             "#000013"
            ],
            [
             0.3333333333333333,
             "#000014"
            ],
            [
             0.4444444444444444,
             "#000015"
            ],
            [
             0.5555555555555556,
             "#000016"
            ],
            [
             0.6666666666666666,
             "#000017"
            ],
            [
             0.7777777777777778,
             "#000018"
            ],
            [
             0.8888888888888888,
             "#000019"
            ],
            [
             1,
             "#000020"
            ]
           ]
          },
          "colorscale": {
           "diverging": [
            [
             0,
             "#000021"
            ],
            [
             0.1,
             "#000022"
            ],
            [
             0.2,
             "#000023"
            ],
            [
             0.3,
             "#000024"
            ],
            [
             0.4,
             "#000025"
            ],
            [
             0.5,
             "#000026"
            ],
            [
             0.6,
             "#000027"
            ],
            [
             0.7,
             "#000028"
            ],
            [
             0.8,
             "#000029"
            ],
            [
             0.9,
             "#000030"
            ],
            [
             1,
             "#000031"
            ]
           ],
           "sequential": [
            [
             0,
             "#000011"
            ],
            [
             0.1111111111111111,
             "#000012"
            ],
            [
             0.2222222222222222,
             "#000013"
            ],
            [
             0.3333333333333333,
             "#000014"
            ],
            [
             0.4444444444444444,
             "#000015"
            ],
            [
             0.5555555555555556,
             "#000016"
            ],
            [
             0.6666666666666666,
             "#000017"
            ],
            [
             0.7777777777777778,
             "#000018"
            ],
            [
             0.8888888888888888,
             "#000019"
            ],
            [
             1,
             "#000020"
            ]
           ],
           "sequentialminus": [
            [
             0,
             "#000011"
            ],
            [
             0.1111111111111111,
             "#000012"
            ],
            [
             0.2222222222222222,
             "#000013"
            ],
            [
             0.3333333333333333,
             "#000014"
            ],
            [
             0.4444444444444444,
             "#000015"
            ],
            [
             0.5555555555555556,
             "#000016"
            ],
            [
             0.6666666666666666,
             "#000017"
            ],
            [
             0.7777777777777778,
             "#000018"
            ],
            [
             0.8888888888888888,
             "#000019"
            ],
            [
             1,
             "#000020"
            ]
           ]
          },
          "colorway": [
           "#000001",
           "#000002",
           "#000003",
           "#000004",
           "#000005",
           "#000006",
           "#000007",
           "#000008",
           "#000009",
           "#000010"
          ]
         }
        },
        "title": {
         "text": "Portfolio initial investment Prior to Tax Harvest"
        }
       }
      }
     },
     "metadata": {},
     "output_type": "display_data"
    }
   ],
   "source": [
    "#   for some reason this always has to be re run to show the right names. no code needs to be changed. just run cell again. i want this to show number of shares\n",
    "#   add profit/loss column, (takes the number of shares * purchase share_price) - current prices\n",
    "portfolio_df['order_total'] = portfolio_df['no_of_shares']*portfolio_df['share_price']\n",
    "\n",
    "display(portfolio_df)\n",
    "\n",
    "plot = px.pie(\n",
    "    portfolio_df, \n",
    "    values=portfolio_df.keys()[2],\n",
    "    names=portfolio_df.keys()[1],\n",
    "    color_discrete_sequence=px.colors.sequential.RdBu,\n",
    "    title= 'Portfolio initial investment Prior to Tax Harvest'\n",
    "    )\n",
    "plot.show()"
   ]
  },
  {
   "cell_type": "code",
   "execution_count": 60,
   "metadata": {},
   "outputs": [],
   "source": [
    "# get current prices. use api to get current price\n",
    "\n",
    "API_KEY = os.getenv('ALPACA_API_KEY')\n",
    "\n",
    "API_SECRET_KEY = os.getenv('ALPACA_SECRET_KEY')\n",
    "\n",
    "type(API_KEY)\n",
    "\n",
    "# Create the Alpaca API object\n",
    "alpaca = tradeapi.REST(\n",
    "    API_KEY,\n",
    "    API_SECRET_KEY,\n",
    "    api_version='v2'\n",
    ")\n",
    "\n",
    "# Format current date as ISO format NEED TO AUTO GRAB TODAY'S DATE\n",
    "api_date = input('please enter yesterdays market close date yyyy-mm-dd')\n",
    "today = pd.Timestamp(api_date, tz='America/New_York').isoformat()\n",
    "\n",
    "# Set the tickers\n",
    "tickers = portfolio_df['symbol'].unique()\n",
    "\n",
    "# Set timeframe to \"1Day\" for Alpaca API\n",
    "timeframe = \"1Day\"\n",
    "\n",
    "stock_price_df = alpaca.get_bars(\n",
    "    tickers,\n",
    "    timeframe,\n",
    "    start=today,\n",
    "    end=today\n",
    ").df\n",
    "\n",
    "stock_price_df.head(10)\n",
    "\n",
    "portfolio_df.reset_index(inplace=True)"
   ]
  },
  {
   "cell_type": "code",
   "execution_count": 61,
   "metadata": {},
   "outputs": [
    {
     "data": {
      "text/plain": [
       "str"
      ]
     },
     "execution_count": 61,
     "metadata": {},
     "output_type": "execute_result"
    }
   ],
   "source": [
    "type(API_KEY)"
   ]
  },
  {
   "cell_type": "code",
   "execution_count": 62,
   "metadata": {},
   "outputs": [],
   "source": [
    "# concat current prices to portfolio \n",
    "\n",
    "from datetime import *\n",
    "\n",
    "\n",
    "current_price_df = portfolio_df.merge(stock_price_df, how='left', on='symbol')\n",
    "current_price_df['order_date'] = pd.to_datetime(current_price_df['order_date']).dt.date\n",
    "current_price_df['current_value'] = current_price_df['no_of_shares']*current_price_df['close']\n",
    "date_check = date.today() - current_price_df['order_date'] \n",
    "current_price_df['bought_days_from_today'] = date_check\n",
    "current_price_df['bought_days_from_today'] = current_price_df['bought_days_from_today'].dt.days\n",
    "current_price_df['tax_type'] = ''\n",
    "current_price_df['PNL'] = current_price_df['current_value'] - current_price_df['order_total']\n",
    "   "
   ]
  },
  {
   "cell_type": "code",
   "execution_count": 63,
   "metadata": {},
   "outputs": [
    {
     "data": {
      "text/html": [
       "<div>\n",
       "<style scoped>\n",
       "    .dataframe tbody tr th:only-of-type {\n",
       "        vertical-align: middle;\n",
       "    }\n",
       "\n",
       "    .dataframe tbody tr th {\n",
       "        vertical-align: top;\n",
       "    }\n",
       "\n",
       "    .dataframe thead th {\n",
       "        text-align: right;\n",
       "    }\n",
       "</style>\n",
       "<table border=\"1\" class=\"dataframe\">\n",
       "  <thead>\n",
       "    <tr style=\"text-align: right;\">\n",
       "      <th></th>\n",
       "      <th>order_date</th>\n",
       "      <th>symbol</th>\n",
       "      <th>no_of_shares</th>\n",
       "      <th>share_price</th>\n",
       "      <th>order_total</th>\n",
       "      <th>open</th>\n",
       "      <th>high</th>\n",
       "      <th>low</th>\n",
       "      <th>close</th>\n",
       "      <th>volume</th>\n",
       "      <th>trade_count</th>\n",
       "      <th>vwap</th>\n",
       "      <th>current_value</th>\n",
       "      <th>bought_days_from_today</th>\n",
       "      <th>tax_type</th>\n",
       "      <th>PNL</th>\n",
       "      <th>tax</th>\n",
       "    </tr>\n",
       "  </thead>\n",
       "  <tbody>\n",
       "    <tr>\n",
       "      <th>0</th>\n",
       "      <td>2022-03-15</td>\n",
       "      <td>AAPL</td>\n",
       "      <td>320</td>\n",
       "      <td>155.09</td>\n",
       "      <td>49628.80</td>\n",
       "      <td>147.075</td>\n",
       "      <td>147.30</td>\n",
       "      <td>141.92</td>\n",
       "      <td>142.91</td>\n",
       "      <td>64729656</td>\n",
       "      <td>537309</td>\n",
       "      <td>143.790235</td>\n",
       "      <td>45731.20</td>\n",
       "      <td>266</td>\n",
       "      <td></td>\n",
       "      <td>-3897.60</td>\n",
       "      <td>ST</td>\n",
       "    </tr>\n",
       "    <tr>\n",
       "      <th>1</th>\n",
       "      <td>2022-01-24</td>\n",
       "      <td>MSFT</td>\n",
       "      <td>170</td>\n",
       "      <td>296.37</td>\n",
       "      <td>50382.90</td>\n",
       "      <td>250.820</td>\n",
       "      <td>251.86</td>\n",
       "      <td>243.78</td>\n",
       "      <td>245.12</td>\n",
       "      <td>22463727</td>\n",
       "      <td>274238</td>\n",
       "      <td>246.169729</td>\n",
       "      <td>41670.40</td>\n",
       "      <td>316</td>\n",
       "      <td></td>\n",
       "      <td>-8712.50</td>\n",
       "      <td>ST</td>\n",
       "    </tr>\n",
       "    <tr>\n",
       "      <th>2</th>\n",
       "      <td>2022-03-14</td>\n",
       "      <td>TSLA</td>\n",
       "      <td>200</td>\n",
       "      <td>255.46</td>\n",
       "      <td>51092.00</td>\n",
       "      <td>181.215</td>\n",
       "      <td>183.65</td>\n",
       "      <td>175.33</td>\n",
       "      <td>179.93</td>\n",
       "      <td>92181694</td>\n",
       "      <td>958143</td>\n",
       "      <td>178.533513</td>\n",
       "      <td>35986.00</td>\n",
       "      <td>267</td>\n",
       "      <td></td>\n",
       "      <td>-15106.00</td>\n",
       "      <td>ST</td>\n",
       "    </tr>\n",
       "    <tr>\n",
       "      <th>3</th>\n",
       "      <td>2020-03-16</td>\n",
       "      <td>TSLA</td>\n",
       "      <td>73</td>\n",
       "      <td>29.67</td>\n",
       "      <td>2165.91</td>\n",
       "      <td>181.215</td>\n",
       "      <td>183.65</td>\n",
       "      <td>175.33</td>\n",
       "      <td>179.93</td>\n",
       "      <td>92181694</td>\n",
       "      <td>958143</td>\n",
       "      <td>178.533513</td>\n",
       "      <td>13134.89</td>\n",
       "      <td>995</td>\n",
       "      <td></td>\n",
       "      <td>10968.98</td>\n",
       "      <td>LT</td>\n",
       "    </tr>\n",
       "    <tr>\n",
       "      <th>4</th>\n",
       "      <td>2020-03-16</td>\n",
       "      <td>AAPL</td>\n",
       "      <td>83</td>\n",
       "      <td>60.50</td>\n",
       "      <td>5021.50</td>\n",
       "      <td>147.075</td>\n",
       "      <td>147.30</td>\n",
       "      <td>141.92</td>\n",
       "      <td>142.91</td>\n",
       "      <td>64729656</td>\n",
       "      <td>537309</td>\n",
       "      <td>143.790235</td>\n",
       "      <td>11861.53</td>\n",
       "      <td>995</td>\n",
       "      <td></td>\n",
       "      <td>6840.03</td>\n",
       "      <td>LT</td>\n",
       "    </tr>\n",
       "    <tr>\n",
       "      <th>5</th>\n",
       "      <td>2020-03-16</td>\n",
       "      <td>MSFT</td>\n",
       "      <td>37</td>\n",
       "      <td>135.42</td>\n",
       "      <td>5010.54</td>\n",
       "      <td>250.820</td>\n",
       "      <td>251.86</td>\n",
       "      <td>243.78</td>\n",
       "      <td>245.12</td>\n",
       "      <td>22463727</td>\n",
       "      <td>274238</td>\n",
       "      <td>246.169729</td>\n",
       "      <td>9069.44</td>\n",
       "      <td>995</td>\n",
       "      <td></td>\n",
       "      <td>4058.90</td>\n",
       "      <td>LT</td>\n",
       "    </tr>\n",
       "    <tr>\n",
       "      <th>6</th>\n",
       "      <td>2020-03-16</td>\n",
       "      <td>AMZN</td>\n",
       "      <td>59</td>\n",
       "      <td>84.46</td>\n",
       "      <td>4983.14</td>\n",
       "      <td>90.500</td>\n",
       "      <td>91.04</td>\n",
       "      <td>87.90</td>\n",
       "      <td>88.25</td>\n",
       "      <td>75528833</td>\n",
       "      <td>697941</td>\n",
       "      <td>88.987705</td>\n",
       "      <td>5206.75</td>\n",
       "      <td>995</td>\n",
       "      <td></td>\n",
       "      <td>223.61</td>\n",
       "      <td>LT</td>\n",
       "    </tr>\n",
       "  </tbody>\n",
       "</table>\n",
       "</div>"
      ],
      "text/plain": [
       "   order_date symbol  no_of_shares  share_price  order_total     open    high  \\\n",
       "0  2022-03-15   AAPL           320       155.09     49628.80  147.075  147.30   \n",
       "1  2022-01-24   MSFT           170       296.37     50382.90  250.820  251.86   \n",
       "2  2022-03-14   TSLA           200       255.46     51092.00  181.215  183.65   \n",
       "3  2020-03-16   TSLA            73        29.67      2165.91  181.215  183.65   \n",
       "4  2020-03-16   AAPL            83        60.50      5021.50  147.075  147.30   \n",
       "5  2020-03-16   MSFT            37       135.42      5010.54  250.820  251.86   \n",
       "6  2020-03-16   AMZN            59        84.46      4983.14   90.500   91.04   \n",
       "\n",
       "      low   close    volume  trade_count        vwap  current_value  \\\n",
       "0  141.92  142.91  64729656       537309  143.790235       45731.20   \n",
       "1  243.78  245.12  22463727       274238  246.169729       41670.40   \n",
       "2  175.33  179.93  92181694       958143  178.533513       35986.00   \n",
       "3  175.33  179.93  92181694       958143  178.533513       13134.89   \n",
       "4  141.92  142.91  64729656       537309  143.790235       11861.53   \n",
       "5  243.78  245.12  22463727       274238  246.169729        9069.44   \n",
       "6   87.90   88.25  75528833       697941   88.987705        5206.75   \n",
       "\n",
       "   bought_days_from_today tax_type       PNL tax  \n",
       "0                     266           -3897.60  ST  \n",
       "1                     316           -8712.50  ST  \n",
       "2                     267          -15106.00  ST  \n",
       "3                     995           10968.98  LT  \n",
       "4                     995            6840.03  LT  \n",
       "5                     995            4058.90  LT  \n",
       "6                     995             223.61  LT  "
      ]
     },
     "metadata": {},
     "output_type": "display_data"
    },
    {
     "data": {
      "text/plain": [
       "162660.21000000002"
      ]
     },
     "metadata": {},
     "output_type": "display_data"
    }
   ],
   "source": [
    "current_price_df.loc[current_price_df['bought_days_from_today'] >=365, 'tax'] = 'LT'\n",
    "current_price_df.loc[current_price_df['bought_days_from_today'] < 365, 'tax'] = 'ST'\n",
    "\n",
    "display(current_price_df)\n",
    "display(current_price_df['current_value'].sum())"
   ]
  },
  {
   "cell_type": "code",
   "execution_count": 64,
   "metadata": {},
   "outputs": [
    {
     "name": "stdout",
     "output_type": "stream",
     "text": [
      "the value of your long term gains taxable portfolio is  $ 39272.61\n",
      "your initial investment is  $ 17181.09\n",
      "the taxable difference is  $ 39272.61 - 17181.09 = 22091.52 \n",
      "the positive pnl sum is $ 22091.520000000004\n",
      "the negative pnl sum is $ 0.0\n",
      "the max you can withdraw from your long term gains stocks and not pay tax is :$ 0.0\n",
      "the value of your short term gains taxable portfolio is  $ 123387.6\n",
      "your initial investment is  $ 151103.7\n",
      "the taxable difference is  $ 123387.6 - 151103.7 = -27716.100000000006 \n",
      "total portfolio value is $ 162660.21000000002\n",
      "the positive pnl sum is $ 0.0\n",
      "the negative pnl sum is $ -27716.100000000006\n",
      "the max you can withdraw from your short term gains stocks and not pay tax is :$ 55432.20000000001\n"
     ]
    },
    {
     "name": "stderr",
     "output_type": "stream",
     "text": [
      "/var/folders/dx/8m8b_r_57793yl3byvym44sh0000gn/T/ipykernel_56892/1403330773.py:7: FutureWarning:\n",
      "\n",
      "Dropping of nuisance columns in DataFrame reductions (with 'numeric_only=None') is deprecated; in a future version this will raise TypeError.  Select only valid columns before calling the reduction.\n",
      "\n",
      "/var/folders/dx/8m8b_r_57793yl3byvym44sh0000gn/T/ipykernel_56892/1403330773.py:27: FutureWarning:\n",
      "\n",
      "Dropping of nuisance columns in DataFrame reductions (with 'numeric_only=None') is deprecated; in a future version this will raise TypeError.  Select only valid columns before calling the reduction.\n",
      "\n"
     ]
    }
   ],
   "source": [
    "# display blanace of each tax type and ask user to input dollar total of withdrawal requested, put amount in column \"amount_to_withdraw\"\n",
    "LT_portfolio_df = current_price_df.loc[current_price_df['tax'] == 'LT']\n",
    "LT_portfolio_balance = LT_portfolio_df['current_value'].sum()\n",
    "LT_portfolio_inital_investment = LT_portfolio_df['order_total'].sum()\n",
    "LT_taxable_amount = LT_portfolio_balance - LT_portfolio_inital_investment\n",
    "LT_negative_pnl = LT_portfolio_df[LT_portfolio_df['PNL'] < 0].sum()\n",
    "LT_positive_pnl = LT_portfolio_df[LT_portfolio_df['PNL'] > 0].sum()\n",
    "LT_negative_pnl =LT_negative_pnl['PNL']\n",
    "LT_positive_pnl =LT_positive_pnl['PNL']\n",
    "LT_max_tax_free_withdrawal_amount = abs(LT_negative_pnl) * 2\n",
    "#display(LT_portfolio_df)\n",
    "\n",
    "\n",
    "print(f\"the value of your long term gains taxable portfolio is  $ {LT_portfolio_balance}\")\n",
    "print(f\"your initial investment is  $ {LT_portfolio_inital_investment}\")\n",
    "print(f\"the taxable difference is  $ {LT_portfolio_balance} - {LT_portfolio_inital_investment} = {LT_taxable_amount} \")\n",
    "print(f\"the positive pnl sum is $ {LT_positive_pnl}\")\n",
    "print(f\"the negative pnl sum is $ {LT_negative_pnl}\")\n",
    "print(f\"the max you can withdraw from your long term gains stocks and not pay tax is :$ {LT_max_tax_free_withdrawal_amount}\")\n",
    "\n",
    "\n",
    "ST_portfolio_df = current_price_df.loc[current_price_df['tax'] == 'ST']\n",
    "ST_portfolio_balance = ST_portfolio_df['current_value'].sum()\n",
    "ST_portfolio_inital_investment = ST_portfolio_df['order_total'].sum()\n",
    "ST_taxable_amount = ST_portfolio_balance - ST_portfolio_inital_investment\n",
    "total_portfolio_value = LT_portfolio_balance + ST_portfolio_balance\n",
    "ST_negative_pnl = ST_portfolio_df[ST_portfolio_df['PNL'] < 0].sum()\n",
    "ST_positive_pnl = ST_portfolio_df[ST_portfolio_df['PNL'] > 0].sum()\n",
    "ST_negative_pnl =ST_negative_pnl['PNL']\n",
    "ST_positive_pnl =ST_positive_pnl['PNL']\n",
    "ST_max_tax_free_withdrawal_amount = abs(ST_negative_pnl) * 2\n",
    "\n",
    "#display(ST_portfolio_df)\n",
    "\n",
    "\n",
    "\n",
    "\n",
    "print(f\"the value of your short term gains taxable portfolio is  $ {ST_portfolio_balance}\")\n",
    "print(f\"your initial investment is  $ {ST_portfolio_inital_investment}\")\n",
    "print(f\"the taxable difference is  $ {ST_portfolio_balance} - {ST_portfolio_inital_investment} = {ST_taxable_amount} \")\n",
    "print(f\"total portfolio value is $ {total_portfolio_value}\")\n",
    "print(f\"the positive pnl sum is $ {ST_positive_pnl}\")\n",
    "print(f\"the negative pnl sum is $ {ST_negative_pnl}\")\n",
    "print(f\"the max you can withdraw from your short term gains stocks and not pay tax is :$ {ST_max_tax_free_withdrawal_amount}\")\n"
   ]
  },
  {
   "cell_type": "code",
   "execution_count": 65,
   "metadata": {},
   "outputs": [
    {
     "name": "stdout",
     "output_type": "stream",
     "text": [
      "let's determine your federal tax/short term gains bracket\n",
      "you entered $150000\n"
     ]
    }
   ],
   "source": [
    "# ask user for yearly income to determine tax bracket. put amount in column \"taxable_income\"\n",
    "print(\"let's determine your federal tax/short term gains bracket\")\n",
    "user_income = input(\"please enter your annual taxable income\")\n",
    "user_income = int(user_income)\n",
    "print(f\"you entered ${user_income}\")\n"
   ]
  },
  {
   "cell_type": "code",
   "execution_count": 66,
   "metadata": {},
   "outputs": [
    {
     "name": "stdout",
     "output_type": "stream",
     "text": [
      "your federal tax/short term gains rate is : 0.24\n"
     ]
    }
   ],
   "source": [
    "# convert \"taxable_income\" to percentage of taxes owed from tax bracket into column \"tax_pct\"\n",
    "if user_income <= 10275:\n",
    "    tax_bracket = 0.10\n",
    "elif user_income <= 41775:\n",
    "    tax_bracket = 0.12\n",
    "elif user_income <= 89075:\n",
    "    tax_bracket = 0.22\n",
    "elif user_income <= 170050:\n",
    "    tax_bracket = 0.24\n",
    "elif user_income <= 215950:\n",
    "    tax_bracket = 0.32\n",
    "elif user_income <= 539000:\n",
    "    tax_bracket = 0.35\n",
    "elif user_income >539000:\n",
    "    tax_bracket = 0.37\n",
    "\n",
    "\n",
    "print(f\"your federal tax/short term gains rate is : {tax_bracket}\")"
   ]
  },
  {
   "cell_type": "code",
   "execution_count": 67,
   "metadata": {},
   "outputs": [],
   "source": [
    "# describe long term and short term gain tax rates\n",
    "display_tax_types = input('would you like to see information on tax types? y/n')\n",
    "\n",
    "if display_tax_types == 'y':\n",
    "    print(\n",
    "'''\n",
    "\"How much do I have to pay?\n",
    "The tax rate you pay in 2022 depends on whether your gain is short-term or long-term.\n",
    "\n",
    "Short-term profits are usually taxed at your maximum tax rate, just like your salary, up to 37% and could even be subject to the additional 3.8% Medicare surtax, depending on your income level.\n",
    "Long-term gains are treated much better. Long-term gains are taxed at 0%, 15% or 20% depending on your taxable income and filing status.\n",
    "Long-term gains on collectibles—such as stamps, antiques and coins—are taxed at 28%, or at your ordinary-income tax rate if lower.\n",
    "Gains on real estate that are attributable to depreciation—since depreciation deductions reduce your cost basis, they also increase your profit dollar for dollar—are taxed at 25%, or at your ordinary-income tax rate if lower.\n",
    "Long-term gains from stock sales  by children under age 19—under age 24 if they are full-time students—may not qualify for the 0% rate because of the Kiddie Tax rules. (When these rules apply, the child’s gains may be taxed at the parents’ higher rates.\n",
    "'''\n",
    ")\n"
   ]
  },
  {
   "cell_type": "code",
   "execution_count": 68,
   "metadata": {},
   "outputs": [],
   "source": [
    "# how to offset long term and short term gains from sales\n",
    "display_tax_offset_rules = input('would you like to see information on of tax loss offset rules? y/n')\n",
    "\n",
    "if display_tax_offset_rules == 'y':\n",
    "    print(\n",
    "'''\n",
    "Almost everything you own and use for personal or investment purposes is a capital asset. Examples include a home, personal-use items like household furnishings, and stocks or bonds held as investments. When you sell a capital asset, the difference between the adjusted basis in the asset and the amount you realized from the sale is a capital gain or a capital loss. Generally, an asset's basis is its cost to the owner, but if you received the asset as a gift or inheritance, refer to Topic No. 703 for information about your basis. For information on calculating adjusted basis, refer to Publication 551, Basis of Assets. You have a capital gain if you sell the asset for more than your adjusted basis. You have a capital loss if you sell the asset for less than your adjusted basis. Losses from the sale of personal-use property, such as your home or car, aren't tax deductible.\n",
    "\n",
    "Short-Term or Long-Term\n",
    "To correctly arrive at your net capital gain or loss, capital gains and losses are classified as long-term or short-term. Generally, if you hold the asset for more than one year before you dispose of it, your capital gain or loss is long-term. If you hold it one year or less, your capital gain or loss is short-term. For exceptions to this rule, such as property acquired by gift, property acquired from a decedent, or patent property, refer to Publication 544, Sales and Other Dispositions of Assets; for commodity futures, see Publication 550, Investment Income and Expenses; or for applicable partnership interests, see Publication 541, Partnerships. To determine how long you held the asset, you generally count from the day after the day you acquired the asset up to and including the day you disposed of the asset.\n",
    "\n",
    "If you have a net capital gain, a lower tax rate may apply to the gain than the tax rate that applies to your ordinary income. The term \"net capital gain\" means the amount by which your net long-term capital gain for the year is more than your net short-term capital loss for the year. The term \"net long-term capital gain\" means long-term capital gains reduced by long-term capital losses including any unused long-term capital loss carried over from previous years.\n",
    "\n",
    "Capital Gain Tax Rates\n",
    "The tax rate on most net capital gain is no higher than 15% for most individuals. Some or all net capital gain may be taxed at 0% if your taxable income is less than or equal to $40,400 for single or $80,800 for married filing jointly or qualifying widow(er).\n",
    "\n",
    "A capital gain rate of 15% applies if your taxable income is more than $40,400 but less than or equal to $445,850 for single; more than $80,800 but less than or equal to $501,600 for married filing jointly or qualifying widow(er); more than $54,100 but less than or equal to $473,750 for head of household or more than $40,400 but less than or equal to $250,800 for married filing separately.\n",
    "\n",
    "However, a net capital gain tax rate of 20% applies to the extent that your taxable income exceeds the thresholds set for the 15% capital gain rate.\n",
    "\n",
    "There are a few other exceptions where capital gains may be taxed at rates greater than 20%:\n",
    "\n",
    "The taxable part of a gain from selling section 1202 qualified small business stock is taxed at a maximum 28% rate.\n",
    "Net capital gains from selling collectibles (such as coins or art) are taxed at a maximum 28% rate.\n",
    "The portion of any unrecaptured section 1250 gain from selling section 1250 real property is taxed at a maximum 25% rate.\n",
    "Note: Net short-term capital gains are subject to taxation as ordinary income at graduated tax rates.\n",
    "\n",
    "Limit on the Deduction and Carryover of Losses\n",
    "If your capital losses exceed your capital gains, the amount of the excess loss that you can claim to lower your income is the lesser of $3,000 ($1,500 if married filing separately) or your total net loss shown on line 16 of Schedule D (Form 1040). Claim the loss on line 7 of your Form 1040 or Form 1040-SR. If your net capital loss is more than this limit, you can carry the loss forward to later years. You may use the Capital Loss Carryover Worksheet found in Publication 550, Investment Income and Expenses or in the Instructions for Schedule D (Form 1040)PDF to figure the amount you can carry forward.\n",
    "'''\n",
    ")"
   ]
  },
  {
   "cell_type": "code",
   "execution_count": 69,
   "metadata": {},
   "outputs": [
    {
     "name": "stdout",
     "output_type": "stream",
     "text": [
      "selling off these losing stocks will give you 0.0 cash and a credit loss of 0.0\n"
     ]
    },
    {
     "data": {
      "text/html": [
       "<div>\n",
       "<style scoped>\n",
       "    .dataframe tbody tr th:only-of-type {\n",
       "        vertical-align: middle;\n",
       "    }\n",
       "\n",
       "    .dataframe tbody tr th {\n",
       "        vertical-align: top;\n",
       "    }\n",
       "\n",
       "    .dataframe thead th {\n",
       "        text-align: right;\n",
       "    }\n",
       "</style>\n",
       "<table border=\"1\" class=\"dataframe\">\n",
       "  <thead>\n",
       "    <tr style=\"text-align: right;\">\n",
       "      <th></th>\n",
       "      <th>order_date</th>\n",
       "      <th>symbol</th>\n",
       "      <th>no_of_shares</th>\n",
       "      <th>share_price</th>\n",
       "      <th>order_total</th>\n",
       "      <th>open</th>\n",
       "      <th>high</th>\n",
       "      <th>low</th>\n",
       "      <th>close</th>\n",
       "      <th>volume</th>\n",
       "      <th>trade_count</th>\n",
       "      <th>vwap</th>\n",
       "      <th>current_value</th>\n",
       "      <th>bought_days_from_today</th>\n",
       "      <th>tax_type</th>\n",
       "      <th>PNL</th>\n",
       "      <th>tax</th>\n",
       "    </tr>\n",
       "  </thead>\n",
       "  <tbody>\n",
       "  </tbody>\n",
       "</table>\n",
       "</div>"
      ],
      "text/plain": [
       "Empty DataFrame\n",
       "Columns: [order_date, symbol, no_of_shares, share_price, order_total, open, high, low, close, volume, trade_count, vwap, current_value, bought_days_from_today, tax_type, PNL, tax]\n",
       "Index: []"
      ]
     },
     "metadata": {},
     "output_type": "display_data"
    },
    {
     "name": "stdout",
     "output_type": "stream",
     "text": [
      "to maximize withdrawal and offset losses. it is recommended to\n",
      "all of your stocks are up! there are no loses to harvest! We cannot make any sell recommendations at this time!\n",
      "selling off these losing stocks will give you 123387.6 cash and a credit loss of -27716.100000000006\n"
     ]
    },
    {
     "data": {
      "text/html": [
       "<div>\n",
       "<style scoped>\n",
       "    .dataframe tbody tr th:only-of-type {\n",
       "        vertical-align: middle;\n",
       "    }\n",
       "\n",
       "    .dataframe tbody tr th {\n",
       "        vertical-align: top;\n",
       "    }\n",
       "\n",
       "    .dataframe thead th {\n",
       "        text-align: right;\n",
       "    }\n",
       "</style>\n",
       "<table border=\"1\" class=\"dataframe\">\n",
       "  <thead>\n",
       "    <tr style=\"text-align: right;\">\n",
       "      <th></th>\n",
       "      <th>order_date</th>\n",
       "      <th>symbol</th>\n",
       "      <th>no_of_shares</th>\n",
       "      <th>share_price</th>\n",
       "      <th>order_total</th>\n",
       "      <th>open</th>\n",
       "      <th>high</th>\n",
       "      <th>low</th>\n",
       "      <th>close</th>\n",
       "      <th>volume</th>\n",
       "      <th>trade_count</th>\n",
       "      <th>vwap</th>\n",
       "      <th>current_value</th>\n",
       "      <th>bought_days_from_today</th>\n",
       "      <th>tax_type</th>\n",
       "      <th>PNL</th>\n",
       "      <th>tax</th>\n",
       "    </tr>\n",
       "  </thead>\n",
       "  <tbody>\n",
       "    <tr>\n",
       "      <th>0</th>\n",
       "      <td>2022-03-15</td>\n",
       "      <td>AAPL</td>\n",
       "      <td>320</td>\n",
       "      <td>155.09</td>\n",
       "      <td>49628.8</td>\n",
       "      <td>147.075</td>\n",
       "      <td>147.30</td>\n",
       "      <td>141.92</td>\n",
       "      <td>142.91</td>\n",
       "      <td>64729656</td>\n",
       "      <td>537309</td>\n",
       "      <td>143.790235</td>\n",
       "      <td>45731.2</td>\n",
       "      <td>266</td>\n",
       "      <td></td>\n",
       "      <td>-3897.6</td>\n",
       "      <td>ST</td>\n",
       "    </tr>\n",
       "    <tr>\n",
       "      <th>1</th>\n",
       "      <td>2022-01-24</td>\n",
       "      <td>MSFT</td>\n",
       "      <td>170</td>\n",
       "      <td>296.37</td>\n",
       "      <td>50382.9</td>\n",
       "      <td>250.820</td>\n",
       "      <td>251.86</td>\n",
       "      <td>243.78</td>\n",
       "      <td>245.12</td>\n",
       "      <td>22463727</td>\n",
       "      <td>274238</td>\n",
       "      <td>246.169729</td>\n",
       "      <td>41670.4</td>\n",
       "      <td>316</td>\n",
       "      <td></td>\n",
       "      <td>-8712.5</td>\n",
       "      <td>ST</td>\n",
       "    </tr>\n",
       "    <tr>\n",
       "      <th>2</th>\n",
       "      <td>2022-03-14</td>\n",
       "      <td>TSLA</td>\n",
       "      <td>200</td>\n",
       "      <td>255.46</td>\n",
       "      <td>51092.0</td>\n",
       "      <td>181.215</td>\n",
       "      <td>183.65</td>\n",
       "      <td>175.33</td>\n",
       "      <td>179.93</td>\n",
       "      <td>92181694</td>\n",
       "      <td>958143</td>\n",
       "      <td>178.533513</td>\n",
       "      <td>35986.0</td>\n",
       "      <td>267</td>\n",
       "      <td></td>\n",
       "      <td>-15106.0</td>\n",
       "      <td>ST</td>\n",
       "    </tr>\n",
       "  </tbody>\n",
       "</table>\n",
       "</div>"
      ],
      "text/plain": [
       "   order_date symbol  no_of_shares  share_price  order_total     open    high  \\\n",
       "0  2022-03-15   AAPL           320       155.09      49628.8  147.075  147.30   \n",
       "1  2022-01-24   MSFT           170       296.37      50382.9  250.820  251.86   \n",
       "2  2022-03-14   TSLA           200       255.46      51092.0  181.215  183.65   \n",
       "\n",
       "      low   close    volume  trade_count        vwap  current_value  \\\n",
       "0  141.92  142.91  64729656       537309  143.790235        45731.2   \n",
       "1  243.78  245.12  22463727       274238  246.169729        41670.4   \n",
       "2  175.33  179.93  92181694       958143  178.533513        35986.0   \n",
       "\n",
       "   bought_days_from_today tax_type      PNL tax  \n",
       "0                     266           -3897.6  ST  \n",
       "1                     316           -8712.5  ST  \n",
       "2                     267          -15106.0  ST  "
      ]
     },
     "metadata": {},
     "output_type": "display_data"
    }
   ],
   "source": [
    "# display all losing stocks to sell and winning stocks to net zero the gains for maximin withdrawal\n",
    "#long term losers\n",
    "LT_losers_df = LT_portfolio_df.loc[LT_portfolio_df['PNL'] < 0]\n",
    "LT_losers_withdrawal_total = LT_losers_df['current_value'].sum()\n",
    "LT_losers_losses_reported = LT_losers_df['PNL'].sum()\n",
    "print(f\"selling off these losing stocks will give you {LT_losers_withdrawal_total} cash and a credit loss of {LT_losers_losses_reported}\")\n",
    "display(LT_losers_df)\n",
    "\n",
    "#long term winners\n",
    "print(f\"to maximize withdrawal and offset losses. it is recommended to\")\n",
    "LT_winners_df = LT_portfolio_df.loc[LT_portfolio_df['PNL'] >0]\n",
    "LT_sorted_winners_df = LT_winners_df.sort_values(['PNL'], ascending= False).reset_index(drop=True)\n",
    "\n",
    "if LT_losers_losses_reported == 0:\n",
    "   LT_scenario = 0\n",
    "elif LT_sorted_winners_df['PNL'].iloc[0] > LT_losers_losses_reported:\n",
    "   LT_scenario = 1\n",
    "elif LT_sorted_winners_df['PNL'].iloc[0] + LT_sorted_winners_df['PNL'].iloc[1] > LT_losers_losses_reported:\n",
    "   LT_scenario = 2\n",
    "elif LT_sorted_winners_df['PNL'].iloc[0] + LT_sorted_winners_df['PNL'].iloc[1] + LT_sorted_winners_df['PNL'].iloc[2] > LT_losers_losses_reported:\n",
    "   LT_scenario = 3\n",
    "else:\n",
    "   print(\"losses are much higher than winning stocks right now. sell whatever shares you'd like to net zero losses and profits\")\n",
    "   print(LT_sorted_winners_df)\n",
    "\n",
    "if LT_scenario == 0:\n",
    "   print(\"all of your stocks are up! there are no loses to harvest! We cannot make any sell recommendations at this time!\")\n",
    "elif LT_scenario == 1:\n",
    "   LT_winner_stock_to_sell = LT_sorted_winners_df['symbol'].iloc[0]\n",
    "   print(f\"sell enough shares of {LT_winner_stock_to_sell} to offset {LT_losers_losses_reported} in losses\")\n",
    "   LT_offset_shares_to_sell = LT_losers_losses_reported / LT_sorted_winners_df['close'].iloc[0]\n",
    "   LT_offset_shares_to_sell = round(abs(LT_offset_shares_to_sell),0)\n",
    "   LT_offset_close_price = LT_sorted_winners_df['close'].iloc[0]\n",
    "   LT_offset_sell_amount_total = LT_offset_shares_to_sell * LT_offset_close_price \n",
    "   LT_offset_net_tax_liability = round(LT_offset_sell_amount_total - abs(LT_losers_losses_reported),2)\n",
    "   LT_cash_in_bank = LT_losers_withdrawal_total + LT_offset_sell_amount_total \n",
    "   print(f\"selling {LT_offset_shares_to_sell} shares at {LT_offset_close_price} equals a total of {LT_offset_sell_amount_total}\")\n",
    "   if LT_offset_net_tax_liability < 0:\n",
    "      print(f\"you can declare a loss of {LT_offset_net_tax_liability} and avoid paying taxes on liquidity created\")\n",
    "   \n",
    "     # print(f\"for a total Long Term gains tax liability of ${LT_offset_net_tax_liability} taxed as long term gains\")\n",
    "   LT_cash_in_bank = round(LT_cash_in_bank,2)\n",
    "   print(f\"liquidity gained from long term gains tax harvesting transactions totals ${LT_cash_in_bank} \")\n",
    "   LT_sorted_winners_df['no_of_shares'].iloc[0] = LT_sorted_winners_df['no_of_shares'].iloc[0] - LT_offset_shares_to_sell\n",
    "   print(\"current Long Term gain stock holdings\")\n",
    "   after_harvest_LT_holdings = LT_sorted_winners_df\n",
    "   display(after_harvest_LT_holdings)\n",
    "   \n",
    "\n",
    "   \n",
    "#short term losers\n",
    "ST_losers_df = ST_portfolio_df.loc[ST_portfolio_df['PNL'] < 0]\n",
    "ST_losers_withdrawal_total = ST_losers_df['current_value'].sum()\n",
    "ST_losers_losses_reported = ST_losers_df['PNL'].sum()\n",
    "print(f\"selling off these losing stocks will give you {ST_losers_withdrawal_total} cash and a credit loss of {ST_losers_losses_reported}\")\n",
    "display(ST_losers_df)\n",
    "#short term winners\n",
    "ST_winners_df = ST_portfolio_df.loc[ST_portfolio_df['PNL'] >0]\n",
    "ST_sorted_winners_df = ST_winners_df.sort_values(['PNL'], ascending= False).reset_index(drop=True)\n"
   ]
  },
  {
   "cell_type": "code",
   "execution_count": 70,
   "metadata": {},
   "outputs": [],
   "source": [
    "if LT_scenario != 0:\n",
    "    portfolio_value = after_harvest_LT_holdings['current_value'].sum() + ST_losers_withdrawal_total\n",
    "    display(portfolio_value)\n",
    "\n",
    "    \n",
    "\n"
   ]
  },
  {
   "cell_type": "code",
   "execution_count": 71,
   "metadata": {},
   "outputs": [
    {
     "data": {
      "text/html": [
       "<div>\n",
       "<style scoped>\n",
       "    .dataframe tbody tr th:only-of-type {\n",
       "        vertical-align: middle;\n",
       "    }\n",
       "\n",
       "    .dataframe tbody tr th {\n",
       "        vertical-align: top;\n",
       "    }\n",
       "\n",
       "    .dataframe thead th {\n",
       "        text-align: right;\n",
       "    }\n",
       "</style>\n",
       "<table border=\"1\" class=\"dataframe\">\n",
       "  <thead>\n",
       "    <tr style=\"text-align: right;\">\n",
       "      <th></th>\n",
       "      <th>order_date</th>\n",
       "      <th>symbol</th>\n",
       "      <th>no_of_shares</th>\n",
       "      <th>share_price</th>\n",
       "    </tr>\n",
       "  </thead>\n",
       "  <tbody>\n",
       "    <tr>\n",
       "      <th>0</th>\n",
       "      <td>2020-03-16</td>\n",
       "      <td>TSLA</td>\n",
       "      <td>73</td>\n",
       "      <td>29.67</td>\n",
       "    </tr>\n",
       "    <tr>\n",
       "      <th>1</th>\n",
       "      <td>2020-03-16</td>\n",
       "      <td>AAPL</td>\n",
       "      <td>83</td>\n",
       "      <td>60.50</td>\n",
       "    </tr>\n",
       "    <tr>\n",
       "      <th>2</th>\n",
       "      <td>2020-03-16</td>\n",
       "      <td>MSFT</td>\n",
       "      <td>37</td>\n",
       "      <td>135.42</td>\n",
       "    </tr>\n",
       "    <tr>\n",
       "      <th>3</th>\n",
       "      <td>2020-03-16</td>\n",
       "      <td>AMZN</td>\n",
       "      <td>59</td>\n",
       "      <td>84.46</td>\n",
       "    </tr>\n",
       "  </tbody>\n",
       "</table>\n",
       "</div>"
      ],
      "text/plain": [
       "   order_date symbol  no_of_shares  share_price\n",
       "0  2020-03-16   TSLA            73        29.67\n",
       "1  2020-03-16   AAPL            83        60.50\n",
       "2  2020-03-16   MSFT            37       135.42\n",
       "3  2020-03-16   AMZN            59        84.46"
      ]
     },
     "execution_count": 71,
     "metadata": {},
     "output_type": "execute_result"
    }
   ],
   "source": [
    "if LT_scenario != 0:\n",
    "   after_harvest_LT_holdings.columns\n",
    "   after_harvest_LT_holdings = after_harvest_LT_holdings.drop(columns=['order_total','open','high','low','close','volume','trade_count','vwap','current_value','bought_days_from_today','tax_type','PNL','tax'])\n",
    "after_harvest_LT_holdings\n"
   ]
  },
  {
   "cell_type": "code",
   "execution_count": 72,
   "metadata": {},
   "outputs": [
    {
     "data": {
      "text/plain": [
       "Index(['order_date', 'symbol', 'no_of_shares', 'share_price', 'order_total',\n",
       "       'open', 'high', 'low', 'close', 'volume', 'trade_count', 'vwap',\n",
       "       'current_value', 'bought_days_from_today', 'tax_type', 'PNL', 'tax'],\n",
       "      dtype='object')"
      ]
     },
     "metadata": {},
     "output_type": "display_data"
    }
   ],
   "source": [
    "display(ST_losers_df.columns)\n",
    "ST_losers_df = ST_losers_df.drop(columns=['order_total','open','high','low','close','volume','trade_count','vwap','current_value','bought_days_from_today','tax_type','PNL','tax'])\n"
   ]
  },
  {
   "cell_type": "code",
   "execution_count": 73,
   "metadata": {},
   "outputs": [
    {
     "data": {
      "text/html": [
       "<div>\n",
       "<style scoped>\n",
       "    .dataframe tbody tr th:only-of-type {\n",
       "        vertical-align: middle;\n",
       "    }\n",
       "\n",
       "    .dataframe tbody tr th {\n",
       "        vertical-align: top;\n",
       "    }\n",
       "\n",
       "    .dataframe thead th {\n",
       "        text-align: right;\n",
       "    }\n",
       "</style>\n",
       "<table border=\"1\" class=\"dataframe\">\n",
       "  <thead>\n",
       "    <tr style=\"text-align: right;\">\n",
       "      <th></th>\n",
       "      <th>order_date</th>\n",
       "      <th>symbol</th>\n",
       "      <th>no_of_shares</th>\n",
       "      <th>share_price</th>\n",
       "    </tr>\n",
       "  </thead>\n",
       "  <tbody>\n",
       "    <tr>\n",
       "      <th>0</th>\n",
       "      <td>2022-03-15</td>\n",
       "      <td>AAPL</td>\n",
       "      <td>320</td>\n",
       "      <td>155.09</td>\n",
       "    </tr>\n",
       "    <tr>\n",
       "      <th>1</th>\n",
       "      <td>2022-01-24</td>\n",
       "      <td>MSFT</td>\n",
       "      <td>170</td>\n",
       "      <td>296.37</td>\n",
       "    </tr>\n",
       "    <tr>\n",
       "      <th>2</th>\n",
       "      <td>2022-03-14</td>\n",
       "      <td>TSLA</td>\n",
       "      <td>200</td>\n",
       "      <td>255.46</td>\n",
       "    </tr>\n",
       "  </tbody>\n",
       "</table>\n",
       "</div>"
      ],
      "text/plain": [
       "   order_date symbol  no_of_shares  share_price\n",
       "0  2022-03-15   AAPL           320       155.09\n",
       "1  2022-01-24   MSFT           170       296.37\n",
       "2  2022-03-14   TSLA           200       255.46"
      ]
     },
     "metadata": {},
     "output_type": "display_data"
    },
    {
     "data": {
      "text/html": [
       "<div>\n",
       "<style scoped>\n",
       "    .dataframe tbody tr th:only-of-type {\n",
       "        vertical-align: middle;\n",
       "    }\n",
       "\n",
       "    .dataframe tbody tr th {\n",
       "        vertical-align: top;\n",
       "    }\n",
       "\n",
       "    .dataframe thead th {\n",
       "        text-align: right;\n",
       "    }\n",
       "</style>\n",
       "<table border=\"1\" class=\"dataframe\">\n",
       "  <thead>\n",
       "    <tr style=\"text-align: right;\">\n",
       "      <th></th>\n",
       "      <th>order_date</th>\n",
       "      <th>symbol</th>\n",
       "      <th>no_of_shares</th>\n",
       "      <th>share_price</th>\n",
       "    </tr>\n",
       "  </thead>\n",
       "  <tbody>\n",
       "    <tr>\n",
       "      <th>0</th>\n",
       "      <td>2020-03-16</td>\n",
       "      <td>TSLA</td>\n",
       "      <td>73</td>\n",
       "      <td>29.67</td>\n",
       "    </tr>\n",
       "    <tr>\n",
       "      <th>1</th>\n",
       "      <td>2020-03-16</td>\n",
       "      <td>AAPL</td>\n",
       "      <td>83</td>\n",
       "      <td>60.50</td>\n",
       "    </tr>\n",
       "    <tr>\n",
       "      <th>2</th>\n",
       "      <td>2020-03-16</td>\n",
       "      <td>MSFT</td>\n",
       "      <td>37</td>\n",
       "      <td>135.42</td>\n",
       "    </tr>\n",
       "    <tr>\n",
       "      <th>3</th>\n",
       "      <td>2020-03-16</td>\n",
       "      <td>AMZN</td>\n",
       "      <td>59</td>\n",
       "      <td>84.46</td>\n",
       "    </tr>\n",
       "  </tbody>\n",
       "</table>\n",
       "</div>"
      ],
      "text/plain": [
       "   order_date symbol  no_of_shares  share_price\n",
       "0  2020-03-16   TSLA            73        29.67\n",
       "1  2020-03-16   AAPL            83        60.50\n",
       "2  2020-03-16   MSFT            37       135.42\n",
       "3  2020-03-16   AMZN            59        84.46"
      ]
     },
     "metadata": {},
     "output_type": "display_data"
    }
   ],
   "source": [
    "#ST_losers_df = ST_losers_df.drop(columns='index')\n",
    "display(ST_losers_df)\n",
    "display(after_harvest_LT_holdings)"
   ]
  },
  {
   "cell_type": "markdown",
   "metadata": {},
   "source": []
  },
  {
   "cell_type": "code",
   "execution_count": 74,
   "metadata": {},
   "outputs": [
    {
     "data": {
      "text/html": [
       "<div>\n",
       "<style scoped>\n",
       "    .dataframe tbody tr th:only-of-type {\n",
       "        vertical-align: middle;\n",
       "    }\n",
       "\n",
       "    .dataframe tbody tr th {\n",
       "        vertical-align: top;\n",
       "    }\n",
       "\n",
       "    .dataframe thead th {\n",
       "        text-align: right;\n",
       "    }\n",
       "</style>\n",
       "<table border=\"1\" class=\"dataframe\">\n",
       "  <thead>\n",
       "    <tr style=\"text-align: right;\">\n",
       "      <th></th>\n",
       "      <th>symbol</th>\n",
       "      <th>no_of_shares</th>\n",
       "      <th>share_price</th>\n",
       "    </tr>\n",
       "    <tr>\n",
       "      <th>order_date</th>\n",
       "      <th></th>\n",
       "      <th></th>\n",
       "      <th></th>\n",
       "    </tr>\n",
       "  </thead>\n",
       "  <tbody>\n",
       "    <tr>\n",
       "      <th>2022-03-15</th>\n",
       "      <td>AAPL</td>\n",
       "      <td>320</td>\n",
       "      <td>155.09</td>\n",
       "    </tr>\n",
       "    <tr>\n",
       "      <th>2022-01-24</th>\n",
       "      <td>MSFT</td>\n",
       "      <td>170</td>\n",
       "      <td>296.37</td>\n",
       "    </tr>\n",
       "    <tr>\n",
       "      <th>2022-03-14</th>\n",
       "      <td>TSLA</td>\n",
       "      <td>200</td>\n",
       "      <td>255.46</td>\n",
       "    </tr>\n",
       "    <tr>\n",
       "      <th>2020-03-16</th>\n",
       "      <td>TSLA</td>\n",
       "      <td>73</td>\n",
       "      <td>29.67</td>\n",
       "    </tr>\n",
       "    <tr>\n",
       "      <th>2020-03-16</th>\n",
       "      <td>AAPL</td>\n",
       "      <td>83</td>\n",
       "      <td>60.50</td>\n",
       "    </tr>\n",
       "    <tr>\n",
       "      <th>2020-03-16</th>\n",
       "      <td>MSFT</td>\n",
       "      <td>37</td>\n",
       "      <td>135.42</td>\n",
       "    </tr>\n",
       "    <tr>\n",
       "      <th>2020-03-16</th>\n",
       "      <td>AMZN</td>\n",
       "      <td>59</td>\n",
       "      <td>84.46</td>\n",
       "    </tr>\n",
       "  </tbody>\n",
       "</table>\n",
       "</div>"
      ],
      "text/plain": [
       "           symbol  no_of_shares  share_price\n",
       "order_date                                  \n",
       "2022-03-15   AAPL           320       155.09\n",
       "2022-01-24   MSFT           170       296.37\n",
       "2022-03-14   TSLA           200       255.46\n",
       "2020-03-16   TSLA            73        29.67\n",
       "2020-03-16   AAPL            83        60.50\n",
       "2020-03-16   MSFT            37       135.42\n",
       "2020-03-16   AMZN            59        84.46"
      ]
     },
     "metadata": {},
     "output_type": "display_data"
    }
   ],
   "source": [
    "after_harvest_holdings_df = pd.concat([ST_losers_df, after_harvest_LT_holdings], axis=0)\n",
    "after_harvest_holdings_df.dropna()\n",
    "after_harvest_holdings_df.set_index(keys='order_date', drop=True, append=False, inplace=True)\n",
    "display(after_harvest_holdings_df)"
   ]
  },
  {
   "cell_type": "code",
   "execution_count": 75,
   "metadata": {},
   "outputs": [
    {
     "data": {
      "application/vnd.plotly.v1+json": {
       "config": {
        "plotlyServerURL": "https://plot.ly"
       },
       "data": [
        {
         "domain": {
          "x": [
           0,
           1
          ],
          "y": [
           0,
           1
          ]
         },
         "hovertemplate": "no_of_shares=%{label}<br>share_price=%{value}<extra></extra>",
         "labels": [
          320,
          170,
          200,
          73,
          83,
          37,
          59
         ],
         "legendgroup": "",
         "name": "",
         "showlegend": true,
         "type": "pie",
         "values": [
          155.09,
          296.37,
          255.46,
          29.67,
          60.5,
          135.42,
          84.46
         ]
        }
       ],
       "layout": {
        "legend": {
         "tracegroupgap": 0
        },
        "piecolorway": [
         "rgb(103,0,31)",
         "rgb(178,24,43)",
         "rgb(214,96,77)",
         "rgb(244,165,130)",
         "rgb(253,219,199)",
         "rgb(247,247,247)",
         "rgb(209,229,240)",
         "rgb(146,197,222)",
         "rgb(67,147,195)",
         "rgb(33,102,172)",
         "rgb(5,48,97)"
        ],
        "template": {
         "data": {
          "candlestick": [
           {
            "decreasing": {
             "line": {
              "color": "#000033"
             }
            },
            "increasing": {
             "line": {
              "color": "#000032"
             }
            },
            "type": "candlestick"
           }
          ],
          "contour": [
           {
            "colorscale": [
             [
              0,
              "#000011"
             ],
             [
              0.1111111111111111,
              "#000012"
             ],
             [
              0.2222222222222222,
              "#000013"
             ],
             [
              0.3333333333333333,
              "#000014"
             ],
             [
              0.4444444444444444,
              "#000015"
             ],
             [
              0.5555555555555556,
              "#000016"
             ],
             [
              0.6666666666666666,
              "#000017"
             ],
             [
              0.7777777777777778,
              "#000018"
             ],
             [
              0.8888888888888888,
              "#000019"
             ],
             [
              1,
              "#000020"
             ]
            ],
            "type": "contour"
           }
          ],
          "contourcarpet": [
           {
            "colorscale": [
             [
              0,
              "#000011"
             ],
             [
              0.1111111111111111,
              "#000012"
             ],
             [
              0.2222222222222222,
              "#000013"
             ],
             [
              0.3333333333333333,
              "#000014"
             ],
             [
              0.4444444444444444,
              "#000015"
             ],
             [
              0.5555555555555556,
              "#000016"
             ],
             [
              0.6666666666666666,
              "#000017"
             ],
             [
              0.7777777777777778,
              "#000018"
             ],
             [
              0.8888888888888888,
              "#000019"
             ],
             [
              1,
              "#000020"
             ]
            ],
            "type": "contourcarpet"
           }
          ],
          "heatmap": [
           {
            "colorscale": [
             [
              0,
              "#000011"
             ],
             [
              0.1111111111111111,
              "#000012"
             ],
             [
              0.2222222222222222,
              "#000013"
             ],
             [
              0.3333333333333333,
              "#000014"
             ],
             [
              0.4444444444444444,
              "#000015"
             ],
             [
              0.5555555555555556,
              "#000016"
             ],
             [
              0.6666666666666666,
              "#000017"
             ],
             [
              0.7777777777777778,
              "#000018"
             ],
             [
              0.8888888888888888,
              "#000019"
             ],
             [
              1,
              "#000020"
             ]
            ],
            "type": "heatmap"
           }
          ],
          "histogram2d": [
           {
            "colorscale": [
             [
              0,
              "#000011"
             ],
             [
              0.1111111111111111,
              "#000012"
             ],
             [
              0.2222222222222222,
              "#000013"
             ],
             [
              0.3333333333333333,
              "#000014"
             ],
             [
              0.4444444444444444,
              "#000015"
             ],
             [
              0.5555555555555556,
              "#000016"
             ],
             [
              0.6666666666666666,
              "#000017"
             ],
             [
              0.7777777777777778,
              "#000018"
             ],
             [
              0.8888888888888888,
              "#000019"
             ],
             [
              1,
              "#000020"
             ]
            ],
            "type": "histogram2d"
           }
          ],
          "icicle": [
           {
            "textfont": {
             "color": "white"
            },
            "type": "icicle"
           }
          ],
          "sankey": [
           {
            "textfont": {
             "color": "#000036"
            },
            "type": "sankey"
           }
          ],
          "scatter": [
           {
            "marker": {
             "line": {
              "width": 0
             }
            },
            "type": "scatter"
           }
          ],
          "table": [
           {
            "cells": {
             "fill": {
              "color": "#000038"
             },
             "font": {
              "color": "#000037"
             },
             "line": {
              "color": "#000039"
             }
            },
            "header": {
             "fill": {
              "color": "#000040"
             },
             "font": {
              "color": "#000036"
             },
             "line": {
              "color": "#000039"
             }
            },
            "type": "table"
           }
          ],
          "waterfall": [
           {
            "connector": {
             "line": {
              "color": "#000036",
              "width": 2
             }
            },
            "decreasing": {
             "marker": {
              "color": "#000033"
             }
            },
            "increasing": {
             "marker": {
              "color": "#000032"
             }
            },
            "totals": {
             "marker": {
              "color": "#000034"
             }
            },
            "type": "waterfall"
           }
          ]
         },
         "layout": {
          "coloraxis": {
           "colorscale": [
            [
             0,
             "#000011"
            ],
            [
             0.1111111111111111,
             "#000012"
            ],
            [
             0.2222222222222222,
             "#000013"
            ],
            [
             0.3333333333333333,
             "#000014"
            ],
            [
             0.4444444444444444,
             "#000015"
            ],
            [
             0.5555555555555556,
             "#000016"
            ],
            [
             0.6666666666666666,
             "#000017"
            ],
            [
             0.7777777777777778,
             "#000018"
            ],
            [
             0.8888888888888888,
             "#000019"
            ],
            [
             1,
             "#000020"
            ]
           ]
          },
          "colorscale": {
           "diverging": [
            [
             0,
             "#000021"
            ],
            [
             0.1,
             "#000022"
            ],
            [
             0.2,
             "#000023"
            ],
            [
             0.3,
             "#000024"
            ],
            [
             0.4,
             "#000025"
            ],
            [
             0.5,
             "#000026"
            ],
            [
             0.6,
             "#000027"
            ],
            [
             0.7,
             "#000028"
            ],
            [
             0.8,
             "#000029"
            ],
            [
             0.9,
             "#000030"
            ],
            [
             1,
             "#000031"
            ]
           ],
           "sequential": [
            [
             0,
             "#000011"
            ],
            [
             0.1111111111111111,
             "#000012"
            ],
            [
             0.2222222222222222,
             "#000013"
            ],
            [
             0.3333333333333333,
             "#000014"
            ],
            [
             0.4444444444444444,
             "#000015"
            ],
            [
             0.5555555555555556,
             "#000016"
            ],
            [
             0.6666666666666666,
             "#000017"
            ],
            [
             0.7777777777777778,
             "#000018"
            ],
            [
             0.8888888888888888,
             "#000019"
            ],
            [
             1,
             "#000020"
            ]
           ],
           "sequentialminus": [
            [
             0,
             "#000011"
            ],
            [
             0.1111111111111111,
             "#000012"
            ],
            [
             0.2222222222222222,
             "#000013"
            ],
            [
             0.3333333333333333,
             "#000014"
            ],
            [
             0.4444444444444444,
             "#000015"
            ],
            [
             0.5555555555555556,
             "#000016"
            ],
            [
             0.6666666666666666,
             "#000017"
            ],
            [
             0.7777777777777778,
             "#000018"
            ],
            [
             0.8888888888888888,
             "#000019"
            ],
            [
             1,
             "#000020"
            ]
           ]
          },
          "colorway": [
           "#000001",
           "#000002",
           "#000003",
           "#000004",
           "#000005",
           "#000006",
           "#000007",
           "#000008",
           "#000009",
           "#000010"
          ]
         }
        },
        "title": {
         "text": "Shares Remaining After Tax Harvest"
        }
       }
      }
     },
     "metadata": {},
     "output_type": "display_data"
    }
   ],
   "source": [
    "plot = px.pie(\n",
    "    after_harvest_holdings_df, \n",
    "    values=after_harvest_holdings_df.keys()[2],\n",
    "    names=after_harvest_holdings_df.keys()[1],\n",
    "    color_discrete_sequence=px.colors.sequential.RdBu,\n",
    "    title= 'Shares Remaining After Tax Harvest'\n",
    "    )\n",
    "plot.show()"
   ]
  },
  {
   "cell_type": "code",
   "execution_count": 76,
   "metadata": {},
   "outputs": [
    {
     "data": {
      "text/plain": [
       "<AxesSubplot:>"
      ]
     },
     "execution_count": 76,
     "metadata": {},
     "output_type": "execute_result"
    },
    {
     "data": {
      "image/png": "[encoded data removed]",
      "text/plain": [
       "<Figure size 640x480 with 1 Axes>"
      ]
     },
     "metadata": {},
     "output_type": "display_data"
    }
   ],
   "source": [
    "harvest_stats_df =pd.DataFrame(\n",
    "    {'Cash': LT_cash_in_bank,\n",
    "    'Tax Liability':LT_offset_net_tax_liability,\n",
    "    'Stocks Sold': LT_offset_sell_amount_total,\n",
    "    'Portfolio Value after Harvest': portfolio_value,\n",
    "    }, index=[0]\n",
    ")\n",
    "\n",
    "harvest_stats_df.plot(kind='bar')"
   ]
  },
  {
   "cell_type": "code",
   "execution_count": 77,
   "metadata": {},
   "outputs": [],
   "source": [
    "output_file_name = input(\"enter filename to save after harvest holdings as\")\n",
    "\n",
    "from pathlib import Path  \n",
    "filepath = Path(output_file_name+'.csv')  \n",
    "filepath.parent.mkdir(parents=True, exist_ok=True)  \n",
    "after_harvest_holdings_df.to_csv(filepath) "
   ]
  }
 ],
 "metadata": {
  "kernelspec": {
   "display_name": "Python 3 (ipykernel)",
   "language": "python",
   "name": "python3"
  },
  "language_info": {
   "codemirror_mode": {
    "name": "ipython",
    "version": 3
   },
   "file_extension": ".py",
   "mimetype": "text/x-python",
   "name": "python",
   "nbconvert_exporter": "python",
   "pygments_lexer": "ipython3",
   "version": "3.9.12"
  },
  "vscode": {
   "interpreter": {
    "hash": "996ffda76004d767ccbaaba7e2437ee3b45ec97388b0612ddf8c69ff1d3b8680"
   }
  }
 },
 "nbformat": 4,
 "nbformat_minor": 2
}
