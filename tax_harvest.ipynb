{
 "cells": [
  {
   "cell_type": "code",
   "execution_count": 37,
   "metadata": {},
   "outputs": [],
   "source": [
    "# Initial imports\n",
    "#import os\n",
    "#import requests\n",
    "import pandas as pd\n",
    "from pathlib import Path\n",
    "from dotenv import load_dotenv\n",
    "import alpaca_trade_api as tradeapi\n",
    "#from MCForecastTools import MCSimulation\n",
    "#import warnings\n",
    "#warnings.filterwarnings(\"ignore\")\n",
    "\n",
    "#%matplotlib inline"
   ]
  },
  {
   "cell_type": "code",
   "execution_count": 38,
   "metadata": {},
   "outputs": [
    {
     "data": {
      "text/plain": [
       "True"
      ]
     },
     "execution_count": 38,
     "metadata": {},
     "output_type": "execute_result"
    }
   ],
   "source": [
    "# Load .env enviroment variables\n",
    "load_dotenv()"
   ]
  },
  {
   "cell_type": "code",
   "execution_count": 39,
   "metadata": {},
   "outputs": [
    {
     "data": {
      "text/html": [
       "<div>\n",
       "<style scoped>\n",
       "    .dataframe tbody tr th:only-of-type {\n",
       "        vertical-align: middle;\n",
       "    }\n",
       "\n",
       "    .dataframe tbody tr th {\n",
       "        vertical-align: top;\n",
       "    }\n",
       "\n",
       "    .dataframe thead th {\n",
       "        text-align: right;\n",
       "    }\n",
       "</style>\n",
       "<table border=\"1\" class=\"dataframe\">\n",
       "  <thead>\n",
       "    <tr style=\"text-align: right;\">\n",
       "      <th></th>\n",
       "      <th>ticker</th>\n",
       "      <th>no_of_shares</th>\n",
       "      <th>share_price</th>\n",
       "    </tr>\n",
       "    <tr>\n",
       "      <th>date</th>\n",
       "      <th></th>\n",
       "      <th></th>\n",
       "      <th></th>\n",
       "    </tr>\n",
       "  </thead>\n",
       "  <tbody>\n",
       "    <tr>\n",
       "      <th>2020-03-16</th>\n",
       "      <td>AMZN</td>\n",
       "      <td>59</td>\n",
       "      <td>84.46</td>\n",
       "    </tr>\n",
       "    <tr>\n",
       "      <th>2020-03-16</th>\n",
       "      <td>AAPL</td>\n",
       "      <td>83</td>\n",
       "      <td>60.50</td>\n",
       "    </tr>\n",
       "    <tr>\n",
       "      <th>2020-03-16</th>\n",
       "      <td>MSFT</td>\n",
       "      <td>37</td>\n",
       "      <td>135.42</td>\n",
       "    </tr>\n",
       "    <tr>\n",
       "      <th>2020-03-16</th>\n",
       "      <td>TSLA</td>\n",
       "      <td>169</td>\n",
       "      <td>29.67</td>\n",
       "    </tr>\n",
       "    <tr>\n",
       "      <th>2021-03-05</th>\n",
       "      <td>AMZN</td>\n",
       "      <td>33</td>\n",
       "      <td>150.02</td>\n",
       "    </tr>\n",
       "    <tr>\n",
       "      <th>2022-03-15</th>\n",
       "      <td>AAPL</td>\n",
       "      <td>32</td>\n",
       "      <td>155.09</td>\n",
       "    </tr>\n",
       "    <tr>\n",
       "      <th>2022-01-24</th>\n",
       "      <td>MSFT</td>\n",
       "      <td>17</td>\n",
       "      <td>296.37</td>\n",
       "    </tr>\n",
       "    <tr>\n",
       "      <th>2022-03-14</th>\n",
       "      <td>TSLA</td>\n",
       "      <td>20</td>\n",
       "      <td>255.46</td>\n",
       "    </tr>\n",
       "  </tbody>\n",
       "</table>\n",
       "</div>"
      ],
      "text/plain": [
       "           ticker  no_of_shares  share_price\n",
       "date                                        \n",
       "2020-03-16   AMZN            59        84.46\n",
       "2020-03-16   AAPL            83        60.50\n",
       "2020-03-16   MSFT            37       135.42\n",
       "2020-03-16   TSLA           169        29.67\n",
       "2021-03-05   AMZN            33       150.02\n",
       "2022-03-15   AAPL            32       155.09\n",
       "2022-01-24   MSFT            17       296.37\n",
       "2022-03-14   TSLA            20       255.46"
      ]
     },
     "execution_count": 39,
     "metadata": {},
     "output_type": "execute_result"
    }
   ],
   "source": [
    "# read in portfolio.csv format date,ticker,shares,share_price, clean data, set date as index,\n",
    "portfolio_df = pd.read_csv(Path('portfolio.csv'), index_col=0, parse_dates=True, infer_datetime_format=True)\n",
    "portfolio_df\n",
    "#list(portfolio_df.columns)"
   ]
  },
  {
   "cell_type": "code",
   "execution_count": 40,
   "metadata": {},
   "outputs": [
    {
     "data": {
      "text/html": [
       "<div>\n",
       "<style scoped>\n",
       "    .dataframe tbody tr th:only-of-type {\n",
       "        vertical-align: middle;\n",
       "    }\n",
       "\n",
       "    .dataframe tbody tr th {\n",
       "        vertical-align: top;\n",
       "    }\n",
       "\n",
       "    .dataframe thead th {\n",
       "        text-align: right;\n",
       "    }\n",
       "</style>\n",
       "<table border=\"1\" class=\"dataframe\">\n",
       "  <thead>\n",
       "    <tr style=\"text-align: right;\">\n",
       "      <th></th>\n",
       "      <th>ticker</th>\n",
       "      <th>no_of_shares</th>\n",
       "      <th>share_price</th>\n",
       "      <th>order_total</th>\n",
       "    </tr>\n",
       "    <tr>\n",
       "      <th>date</th>\n",
       "      <th></th>\n",
       "      <th></th>\n",
       "      <th></th>\n",
       "      <th></th>\n",
       "    </tr>\n",
       "  </thead>\n",
       "  <tbody>\n",
       "    <tr>\n",
       "      <th>2020-03-16</th>\n",
       "      <td>AMZN</td>\n",
       "      <td>59</td>\n",
       "      <td>84.46</td>\n",
       "      <td>4983.14</td>\n",
       "    </tr>\n",
       "    <tr>\n",
       "      <th>2020-03-16</th>\n",
       "      <td>AAPL</td>\n",
       "      <td>83</td>\n",
       "      <td>60.50</td>\n",
       "      <td>5021.50</td>\n",
       "    </tr>\n",
       "    <tr>\n",
       "      <th>2020-03-16</th>\n",
       "      <td>MSFT</td>\n",
       "      <td>37</td>\n",
       "      <td>135.42</td>\n",
       "      <td>5010.54</td>\n",
       "    </tr>\n",
       "    <tr>\n",
       "      <th>2020-03-16</th>\n",
       "      <td>TSLA</td>\n",
       "      <td>169</td>\n",
       "      <td>29.67</td>\n",
       "      <td>5014.23</td>\n",
       "    </tr>\n",
       "    <tr>\n",
       "      <th>2021-03-05</th>\n",
       "      <td>AMZN</td>\n",
       "      <td>33</td>\n",
       "      <td>150.02</td>\n",
       "      <td>4950.66</td>\n",
       "    </tr>\n",
       "    <tr>\n",
       "      <th>2022-03-15</th>\n",
       "      <td>AAPL</td>\n",
       "      <td>32</td>\n",
       "      <td>155.09</td>\n",
       "      <td>4962.88</td>\n",
       "    </tr>\n",
       "    <tr>\n",
       "      <th>2022-01-24</th>\n",
       "      <td>MSFT</td>\n",
       "      <td>17</td>\n",
       "      <td>296.37</td>\n",
       "      <td>5038.29</td>\n",
       "    </tr>\n",
       "    <tr>\n",
       "      <th>2022-03-14</th>\n",
       "      <td>TSLA</td>\n",
       "      <td>20</td>\n",
       "      <td>255.46</td>\n",
       "      <td>5109.20</td>\n",
       "    </tr>\n",
       "  </tbody>\n",
       "</table>\n",
       "</div>"
      ],
      "text/plain": [
       "           ticker  no_of_shares  share_price  order_total\n",
       "date                                                     \n",
       "2020-03-16   AMZN            59        84.46      4983.14\n",
       "2020-03-16   AAPL            83        60.50      5021.50\n",
       "2020-03-16   MSFT            37       135.42      5010.54\n",
       "2020-03-16   TSLA           169        29.67      5014.23\n",
       "2021-03-05   AMZN            33       150.02      4950.66\n",
       "2022-03-15   AAPL            32       155.09      4962.88\n",
       "2022-01-24   MSFT            17       296.37      5038.29\n",
       "2022-03-14   TSLA            20       255.46      5109.20"
      ]
     },
     "execution_count": 40,
     "metadata": {},
     "output_type": "execute_result"
    }
   ],
   "source": [
    "#  add profit/loss column, (takes the number of shares * purchase share_price) - current prices\n",
    "portfolio_df = portfolio_df['order_total'] = portfolio_df['no_of_shares']*portfolio_df['share_price']\n",
    "portfolio_df"
   ]
  },
  {
   "cell_type": "code",
   "execution_count": 50,
   "metadata": {},
   "outputs": [
    {
     "data": {
      "text/html": [
       "<div>\n",
       "<style scoped>\n",
       "    .dataframe tbody tr th:only-of-type {\n",
       "        vertical-align: middle;\n",
       "    }\n",
       "\n",
       "    .dataframe tbody tr th {\n",
       "        vertical-align: top;\n",
       "    }\n",
       "\n",
       "    .dataframe thead th {\n",
       "        text-align: right;\n",
       "    }\n",
       "</style>\n",
       "<table border=\"1\" class=\"dataframe\">\n",
       "  <thead>\n",
       "    <tr style=\"text-align: right;\">\n",
       "      <th></th>\n",
       "      <th>open</th>\n",
       "      <th>high</th>\n",
       "      <th>low</th>\n",
       "      <th>close</th>\n",
       "      <th>volume</th>\n",
       "      <th>trade_count</th>\n",
       "      <th>vwap</th>\n",
       "      <th>symbol</th>\n",
       "    </tr>\n",
       "    <tr>\n",
       "      <th>timestamp</th>\n",
       "      <th></th>\n",
       "      <th></th>\n",
       "      <th></th>\n",
       "      <th></th>\n",
       "      <th></th>\n",
       "      <th></th>\n",
       "      <th></th>\n",
       "      <th></th>\n",
       "    </tr>\n",
       "  </thead>\n",
       "  <tbody>\n",
       "    <tr>\n",
       "      <th>2022-11-29 05:00:00+00:00</th>\n",
       "      <td>144.29</td>\n",
       "      <td>144.81</td>\n",
       "      <td>140.355</td>\n",
       "      <td>141.17</td>\n",
       "      <td>83763833</td>\n",
       "      <td>713284</td>\n",
       "      <td>142.051281</td>\n",
       "      <td>AAPL</td>\n",
       "    </tr>\n",
       "    <tr>\n",
       "      <th>2022-11-29 05:00:00+00:00</th>\n",
       "      <td>94.06</td>\n",
       "      <td>94.41</td>\n",
       "      <td>91.440</td>\n",
       "      <td>92.42</td>\n",
       "      <td>65567520</td>\n",
       "      <td>535132</td>\n",
       "      <td>92.569058</td>\n",
       "      <td>AMZN</td>\n",
       "    </tr>\n",
       "    <tr>\n",
       "      <th>2022-11-29 05:00:00+00:00</th>\n",
       "      <td>241.40</td>\n",
       "      <td>242.79</td>\n",
       "      <td>238.210</td>\n",
       "      <td>240.33</td>\n",
       "      <td>17956516</td>\n",
       "      <td>222059</td>\n",
       "      <td>240.275669</td>\n",
       "      <td>MSFT</td>\n",
       "    </tr>\n",
       "    <tr>\n",
       "      <th>2022-11-29 05:00:00+00:00</th>\n",
       "      <td>184.99</td>\n",
       "      <td>186.38</td>\n",
       "      <td>178.750</td>\n",
       "      <td>180.83</td>\n",
       "      <td>83357152</td>\n",
       "      <td>883446</td>\n",
       "      <td>182.477309</td>\n",
       "      <td>TSLA</td>\n",
       "    </tr>\n",
       "  </tbody>\n",
       "</table>\n",
       "</div>"
      ],
      "text/plain": [
       "                             open    high      low   close    volume  \\\n",
       "timestamp                                                              \n",
       "2022-11-29 05:00:00+00:00  144.29  144.81  140.355  141.17  83763833   \n",
       "2022-11-29 05:00:00+00:00   94.06   94.41   91.440   92.42  65567520   \n",
       "2022-11-29 05:00:00+00:00  241.40  242.79  238.210  240.33  17956516   \n",
       "2022-11-29 05:00:00+00:00  184.99  186.38  178.750  180.83  83357152   \n",
       "\n",
       "                           trade_count        vwap symbol  \n",
       "timestamp                                                  \n",
       "2022-11-29 05:00:00+00:00       713284  142.051281   AAPL  \n",
       "2022-11-29 05:00:00+00:00       535132   92.569058   AMZN  \n",
       "2022-11-29 05:00:00+00:00       222059  240.275669   MSFT  \n",
       "2022-11-29 05:00:00+00:00       883446  182.477309   TSLA  "
      ]
     },
     "execution_count": 50,
     "metadata": {},
     "output_type": "execute_result"
    }
   ],
   "source": [
    "# get current prices. use api to get current price and portfolio value of shares read in from csv\n",
    "\n",
    "API_KEY = os.getenv('ALPACA_API_KEY')\n",
    "\n",
    "API_SECRET_KEY = os.getenv('ALPACA_SECRET_KEY')\n",
    "\n",
    "type(API_KEY)\n",
    "\n",
    "# Create the Alpaca API object\n",
    "alpaca = tradeapi.REST(\n",
    "    API_KEY,\n",
    "    API_SECRET_KEY,\n",
    "    api_version='v2'\n",
    ")\n",
    "\n",
    "# Format current date as ISO format NEED TO AUTO GRAB TODAY'S DATE\n",
    "today = pd.Timestamp(\"2022-11-29\", tz='America/New_York').isoformat()\n",
    "\n",
    "# Set the tickers\n",
    "tickers = portfolio_df['ticker']\n",
    "\n",
    "# Set timeframe to \"1Day\" for Alpaca API\n",
    "timeframe = \"1Day\"\n",
    "\n",
    "stock_price_df = alpaca.get_bars(\n",
    "    tickers,\n",
    "    timeframe,\n",
    "    start=today,\n",
    "    end=today\n",
    ").df\n",
    "\n",
    "stock_price_df.head()\n",
    "\n",
    "#portfolio_df = portfolio_df['current_share_price'] = portfolio_df['no_of_shares']*stock_price_df['close']\n",
    "#portfolio_df\n"
   ]
  },
  {
   "cell_type": "code",
   "execution_count": null,
   "metadata": {},
   "outputs": [],
   "source": [
    "#add total value column to dataframe profit/loss column"
   ]
  },
  {
   "cell_type": "code",
   "execution_count": null,
   "metadata": {},
   "outputs": [],
   "source": [
    "# ask user to input dollar total of withdrawal requested, put amount in column \"amount_to_withdraw\""
   ]
  },
  {
   "cell_type": "code",
   "execution_count": null,
   "metadata": {},
   "outputs": [],
   "source": [
    "# ask user for yearly income to determine tax bracket. put amount in column \"taxable_income\""
   ]
  },
  {
   "cell_type": "code",
   "execution_count": null,
   "metadata": {},
   "outputs": [],
   "source": [
    "# convert \"taxable_income\" to percentage of taxes owed from tax bracket into column \"tax_pct\""
   ]
  },
  {
   "cell_type": "code",
   "execution_count": null,
   "metadata": {},
   "outputs": [],
   "source": [
    "# ask user for 2 letter state abbreviation saved in var \"user_state\""
   ]
  },
  {
   "cell_type": "code",
   "execution_count": null,
   "metadata": {},
   "outputs": [],
   "source": [
    "# look up state tax by user_state. add state_tax to tax_pct"
   ]
  },
  {
   "cell_type": "markdown",
   "metadata": {},
   "source": []
  },
  {
   "cell_type": "code",
   "execution_count": null,
   "metadata": {},
   "outputs": [],
   "source": [
    "# calculate from profit/loss column which shares to sell that has the closest total to zero. "
   ]
  },
  {
   "cell_type": "code",
   "execution_count": null,
   "metadata": {},
   "outputs": [],
   "source": [
    "# save the net total in a new column \"tax_liability\", additional new column \"short_term/long_term_gains"
   ]
  },
  {
   "cell_type": "code",
   "execution_count": null,
   "metadata": {},
   "outputs": [],
   "source": [
    "# display the ticker and number of shares to sell to get to desired amount_to_withdraw"
   ]
  },
  {
   "cell_type": "code",
   "execution_count": null,
   "metadata": {},
   "outputs": [],
   "source": [
    "# display new tax bill by taking ticker sold value * tax_pct"
   ]
  }
 ],
 "metadata": {
  "kernelspec": {
   "display_name": "Python 3.9.12 ('base')",
   "language": "python",
   "name": "python3"
  },
  "language_info": {
   "codemirror_mode": {
    "name": "ipython",
    "version": 3
   },
   "file_extension": ".py",
   "mimetype": "text/x-python",
   "name": "python",
   "nbconvert_exporter": "python",
   "pygments_lexer": "ipython3",
   "version": "3.9.12"
  },
  "orig_nbformat": 4,
  "vscode": {
   "interpreter": {
    "hash": "996ffda76004d767ccbaaba7e2437ee3b45ec97388b0612ddf8c69ff1d3b8680"
   }
  }
 },
 "nbformat": 4,
 "nbformat_minor": 2
}
